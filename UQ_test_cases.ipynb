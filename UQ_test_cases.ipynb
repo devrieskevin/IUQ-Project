{
 "cells": [
  {
   "cell_type": "markdown",
   "metadata": {},
   "source": [
    "# Uncertainty Quantification for test cases"
   ]
  },
  {
   "cell_type": "code",
   "execution_count": 1,
   "metadata": {},
   "outputs": [],
   "source": [
    "import os\n",
    "import shutil\n",
    "\n",
    "import numpy as np\n",
    "from scipy.stats import norm,uniform\n",
    "\n",
    "import UQLib.sample.TMCMC as TMCMC\n",
    "import test_cases.sinusoidal as sinusoidal\n",
    "\n",
    "np.random.seed(1234)"
   ]
  },
  {
   "cell_type": "markdown",
   "metadata": {},
   "source": [
    "## Inverse UQ for a sinusoidal function"
   ]
  },
  {
   "cell_type": "code",
   "execution_count": 2,
   "metadata": {
    "scrolled": true
   },
   "outputs": [
    {
     "name": "stdout",
     "output_type": "stream",
     "text": [
      "True parameter values:\n",
      "('a', 'b', 'c', 'k1', 'k2', 'f1', 'f2') =\n",
      "(-0.6169610992422154, 0.24421754207966373, -0.12454452198577104, 0.5707171674275384, 0.559951616237607, -0.45481478943471676, -0.4470714897138066)\n",
      "Calculate next p\n",
      "p: 0.17549954886782185\n",
      "COV: 0.9999989892627099\n",
      "Running stage 1...\n",
      "Current max likelihood: 3.82362776466929e-06\n",
      "Calculate next p\n",
      "p: 0.936948206719835\n",
      "COV: 0.9999988920692441\n",
      "Running stage 2...\n",
      "Current max likelihood: 9.248439011665014e-06\n",
      "Calculate next p\n",
      "p: 1\n",
      "COV: 0.09586164243635655\n",
      "Running stage 3...\n",
      "Current max likelihood: 1.2761669668269788e-05\n",
      "[[ 0.2320228  -0.03854658 -0.63802385  0.30969622  0.08000516  0.29059115\n",
      "   0.0555876   0.53212547]\n",
      " [ 0.24992677 -0.16542866 -0.7208654   0.2299283   0.19696936  0.3184778\n",
      "   0.08833074  0.52487514]\n",
      " [ 0.24992677 -0.16542866 -0.7208654   0.2299283   0.19696936  0.3184778\n",
      "   0.08833074  0.52487514]\n",
      " [ 0.29183011 -0.24041932 -0.78517861  0.1917818   0.31756456  0.30375063\n",
      "   0.10670899  0.53045496]\n",
      " [ 0.4278728  -0.32835982 -0.85244328  0.13160576  0.62406947  0.16116278\n",
      "   0.14260649  0.58783068]\n",
      " [ 0.36582699 -0.16741285 -0.74813735  0.18167993  0.43633409  0.06122112\n",
      "   0.13861971  0.59869331]\n",
      " [ 0.41859563 -0.2550694  -0.78615564  0.19936558  0.51868536  0.19597491\n",
      "   0.09728155  0.58118997]\n",
      " [ 0.41455007 -0.26582752 -0.78129966  0.24695521  0.50950348  0.31951959\n",
      "   0.09367095  0.55472051]\n",
      " [ 0.33274488  0.1416489  -0.16506626  0.64780171 -0.55529569  0.79924236\n",
      "  -0.57075019  0.49688121]\n",
      " [ 0.07469166  0.6529038  -0.15794246  0.40843436 -0.6814555  -0.53241117\n",
      "   0.00369337  0.6625652 ]]\n",
      "[1.27616697e-05 9.24843901e-06 9.24843901e-06 9.09275886e-06\n",
      " 1.41443463e-06 7.44900912e-07 3.74915049e-06 3.06916910e-06\n",
      " 1.89554700e-07 2.53013134e-07]\n"
     ]
    }
   ],
   "source": [
    "modelpath = \"/home/kevin/master_project/IUQ-Project/test_cases/sinusoidal.py\"\n",
    "\n",
    "# Generate data with Gaussian noise\n",
    "x, y, y_err, true_params = sinusoidal.generate(10)\n",
    "\n",
    "model_params = [\"a\",\"b\",\"c\",\"k1\",\"k2\",\"f1\",\"f2\"]\n",
    "\n",
    "print(\"True parameter values:\")\n",
    "print(tuple(model_params), \"=\")\n",
    "print(tuple(true_params))\n",
    "\n",
    "error_params = [\"s\"]\n",
    "design_vars = [\"x\"]\n",
    "\n",
    "model_errors = [\"s\" for n in range(x.shape[0])]\n",
    "\n",
    "# Define uniform prior wrapper functions and samplers for the model parameters\n",
    "model_func = lambda val: uniform.pdf(val,-1.0,2.0)\n",
    "model_sampler = lambda n_samples: np.random.uniform(-1.0,1.0,size=n_samples)\n",
    "\n",
    "# Define prior wrapper function and sampler for the error parameter\n",
    "error_func = lambda val: uniform.pdf(val,0.001,0.999)\n",
    "error_sampler = lambda n_samples: np.random.uniform(0.001,1.0,size=n_samples)\n",
    "\n",
    "model_priors = [(model_func,model_sampler) for param in model_params]\n",
    "error_priors = [(error_func,error_sampler)]\n",
    "\n",
    "# Construct problem dict\n",
    "problem = {\"setup\":sinusoidal.setup,\n",
    "           \"measure\":sinusoidal.read_output,\n",
    "           \"modelpath\":modelpath,\n",
    "           \"model parameters\":model_params,\n",
    "           \"error parameters\":error_params,\n",
    "           \"design variables\":design_vars,\n",
    "           \"input data\":x,\n",
    "           \"output data\":y,\n",
    "           \"data errors\":y_err,\n",
    "           \"error mapping\":model_errors,\n",
    "           \"model priors\":model_priors,\n",
    "           \"error priors\":error_priors\n",
    "          }\n",
    "\n",
    "os.makedirs(\"TMCMC_output\")\n",
    "os.chdir(\"TMCMC_output\")\n",
    "\n",
    "samples,likelihoods = TMCMC.sample(problem,1000,nprocs=10)\n",
    "\n",
    "os.chdir(\"..\")\n",
    "\n",
    "# Remove garbage\n",
    "shutil.rmtree(\"./TMCMC_output\")\n",
    "\n",
    "print(samples)\n",
    "print(likelihoods)"
   ]
  }
 ],
 "metadata": {
  "kernelspec": {
   "display_name": "Python 3",
   "language": "python",
   "name": "python3"
  },
  "language_info": {
   "codemirror_mode": {
    "name": "ipython",
    "version": 3
   },
   "file_extension": ".py",
   "mimetype": "text/x-python",
   "name": "python",
   "nbconvert_exporter": "python",
   "pygments_lexer": "ipython3",
   "version": "3.7.1"
  }
 },
 "nbformat": 4,
 "nbformat_minor": 2
}
