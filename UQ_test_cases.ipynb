{
 "cells": [
  {
   "cell_type": "markdown",
   "metadata": {},
   "source": [
    "# Uncertainty Quantification for test cases"
   ]
  },
  {
   "cell_type": "code",
   "execution_count": 1,
   "metadata": {},
   "outputs": [],
   "source": [
    "import os\n",
    "\n",
    "import numpy as np\n",
    "from scipy.stats import norm,uniform\n",
    "\n",
    "import UQLib.sample.TMCMC as TMCMC\n",
    "import test_cases.sinusoidal as sinusoidal\n",
    "\n",
    "np.random.seed(1234)"
   ]
  },
  {
   "cell_type": "markdown",
   "metadata": {},
   "source": [
    "## Inverse UQ for a sinusoidal function"
   ]
  },
  {
   "cell_type": "code",
   "execution_count": 2,
   "metadata": {
    "scrolled": true
   },
   "outputs": [
    {
     "name": "stdout",
     "output_type": "stream",
     "text": [
      "True parameter values:\n",
      "('a', 'b', 'c', 'k1', 'k2', 'f1', 'f2') = [-0.6169611   0.24421754 -0.12454452  0.57071717  0.55995162 -0.45481479\n",
      " -0.44707149]\n",
      "Batch: batch_0, Run: run_0 running...\n",
      "Batch: batch_0, Run: run_1 running...\n",
      "Batch: batch_0, Run: run_2 running...\n",
      "Batch: batch_1, Run: run_0 running...\n",
      "Batch: batch_1, Run: run_1 running...\n",
      "Batch: batch_1, Run: run_2 running...\n",
      "Batch: batch_2, Run: run_0 running...\n",
      "Batch: batch_2, Run: run_1 running...\n",
      "Batch: batch_2, Run: run_2 running...\n",
      "[7.82034915e-06 1.86272466e-02 6.39385514e-03]\n"
     ]
    }
   ],
   "source": [
    "modelpath = \"/home/kevin/master_project/IUQ-Project/test_cases/sinusoidal.py\"\n",
    "\n",
    "# Generate data with Gaussian noise\n",
    "x, y, y_err, true_params = sinusoidal.generate(3)\n",
    "\n",
    "model_params = [\"a\",\"b\",\"c\",\"k1\",\"k2\",\"f1\",\"f2\"]\n",
    "\n",
    "print(\"True parameter values:\")\n",
    "print(tuple(model_params), \"=\", true_params)\n",
    "\n",
    "error_params = [\"s\"]\n",
    "design_vars = [\"x\"]\n",
    "\n",
    "model_errors = [\"s\" for n in range(x.shape[0])]\n",
    "\n",
    "# Define uniform prior wrapper functions and samplers for the model parameters\n",
    "uniform_func = lambda val: uniform(val)\n",
    "uniform_sampler = lambda n_samples: np.random.uniform(-1,1,size=n_samples)\n",
    "\n",
    "model_priors = [(uniform_func,uniform_sampler) for param in model_params]\n",
    "\n",
    "# Define prior wrapper function and sampler for the error parameter\n",
    "normal_func = lambda val: norm.pdf(val,0.0,1.0)\n",
    "normal_sampler = lambda n_samples: np.random.normal(0.0,1.0,size=n_samples)\n",
    "\n",
    "error_priors = [(normal_func,normal_sampler)]\n",
    "\n",
    "# Construct problem dict\n",
    "problem = {\"setup\":sinusoidal.setup,\n",
    "           \"measure\":sinusoidal.read_output,\n",
    "           \"modelpath\":modelpath,\n",
    "           \"model parameters\":model_params,\n",
    "           \"error parameters\":error_params,\n",
    "           \"design variables\":design_vars,\n",
    "           \"input data\":x,\n",
    "           \"output data\":y,\n",
    "           \"data errors\":y_err,\n",
    "           \"error mapping\":model_errors,\n",
    "           \"model priors\":model_priors,\n",
    "           \"error priors\":error_priors\n",
    "          }\n",
    "\n",
    "likelihoods = TMCMC.sample(problem,3)\n",
    "\n",
    "print(likelihoods)"
   ]
  }
 ],
 "metadata": {
  "kernelspec": {
   "display_name": "Python 3",
   "language": "python",
   "name": "python3"
  },
  "language_info": {
   "codemirror_mode": {
    "name": "ipython",
    "version": 3
   },
   "file_extension": ".py",
   "mimetype": "text/x-python",
   "name": "python",
   "nbconvert_exporter": "python",
   "pygments_lexer": "ipython3",
   "version": "3.7.1"
  }
 },
 "nbformat": 4,
 "nbformat_minor": 2
}
