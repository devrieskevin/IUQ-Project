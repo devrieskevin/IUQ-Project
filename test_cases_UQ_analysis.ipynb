{
 "cells": [
  {
   "cell_type": "markdown",
   "metadata": {},
   "source": [
    "# Uncertainty Quantification for test cases"
   ]
  },
  {
   "cell_type": "code",
   "execution_count": 1,
   "metadata": {},
   "outputs": [],
   "source": [
    "import os\n",
    "import shutil\n",
    "\n",
    "import dill\n",
    "\n",
    "import numpy as np\n",
    "from scipy.stats import norm,uniform,multivariate_normal\n",
    "\n",
    "import UQLib.calibration.TMCMC as TMCMC\n",
    "import UQLib.calibration.ABCSubSim as ABCSubSim\n",
    "import test_cases.sinusoidal as sinusoidal\n",
    "import test_cases.cosine as cosine\n",
    "\n",
    "import matplotlib.pyplot as plt\n",
    "\n",
    "seed = 1234\n",
    "n_samples = 1000\n",
    "modelpath = \"/home/kevin/master_project/remote_lisa/IUQ-Project/test_cases/cosine.py\"\n",
    "logpath = \"/home/kevin/master_project/remote_lisa/IUQ-Project/TMCMC_log.pkl\""
   ]
  },
  {
   "cell_type": "markdown",
   "metadata": {},
   "source": [
    "# Inverse UQ for a cosine function\n",
    "\n",
    "## Exact Posterior sampling using the TMCMC algorithm"
   ]
  },
  {
   "cell_type": "code",
   "execution_count": 2,
   "metadata": {
    "scrolled": true
   },
   "outputs": [
    {
     "name": "stdout",
     "output_type": "stream",
     "text": [
      "True parameter values:\n",
      "('a', 'c', 'k', 'f') =\n",
      "(-3.084805496211077, 1.2210877103983186, -0.6227226099288554, 2.8535858371376923)\n"
     ]
    },
    {
     "data": {
      "text/plain": [
       "'\\ntry:\\n    shutil.rmtree(\"./TMCMC_output\")\\nexcept FileNotFoundError:\\n    pass\\n\\nos.makedirs(\"TMCMC_output\")\\nos.chdir(\"TMCMC_output\")\\n\\n#TMCMC_sampler = TMCMC.load_state(logpath)\\n#df,qoi = TMCMC_sampler.sample(n_samples,checkpoint=True)\\n\\ndf,qoi = TMCMC.TMCMC(problem_py,logstep=2000,logpath=logpath,nprocs=8).sample(n_samples)\\n\\nos.chdir(\"..\")\\n\\n# Remove garbage\\nshutil.rmtree(\"./TMCMC_output\")\\n\\nprint(df)\\n'"
      ]
     },
     "execution_count": 2,
     "metadata": {},
     "output_type": "execute_result"
    }
   ],
   "source": [
    "np.random.seed(seed)\n",
    "\n",
    "# Generate data with Gaussian noise\n",
    "x, y, y_err, true_params = cosine.generate(15,scale=0.01)\n",
    "a, c, k, f = true_params\n",
    "\n",
    "# Parameter names\n",
    "model_params = [\"a\",\"c\",\"k\",\"f\"]\n",
    "error_params = [\"error_boyz\"]\n",
    "design_vars = [\"x\"]\n",
    "\n",
    "print(\"True parameter values:\")\n",
    "print(tuple(model_params), \"=\")\n",
    "print((a,c,k,f))\n",
    "\n",
    "# Design variable values\n",
    "#design_vals = np.row_stack(np.broadcast(x,a,c))\n",
    "design_vals = x\n",
    "\n",
    "# Error parameter per design point\n",
    "model_errors = [\"error_boyz\" for n in range(x.shape[0])]\n",
    "\n",
    "# Define uniform prior wrapper functions and samplers for the model parameters\n",
    "model_prior = lambda sample: np.prod([uniform.pdf(sample[n],-5.0,10.0) for n in range(len(model_params))])\n",
    "model_sampler = lambda n_samples: np.random.uniform(-5.0,5.0,size=(n_samples,len(model_params)))\n",
    "\n",
    "# Define prior wrapper function and sampler for the error parameter\n",
    "error_prior = lambda sample: np.prod([uniform.pdf(sample[n],0.001,0.999) for n in range(len(error_params))])\n",
    "error_sampler = lambda n_samples: np.random.uniform(0.001,1.0,size=(n_samples,len(error_params)))\n",
    "\n",
    "# Construct problem dict\n",
    "problem_ext = {\"model_type\":\"external\",\n",
    "               \"setup\":(lambda params: cosine.setup(modelpath,params)),\n",
    "               \"measure\":cosine.read_output,\n",
    "               \"model_params\":model_params,\n",
    "               \"error_params\":error_params,\n",
    "               \"design_vars\":design_vars,\n",
    "               \"input_data\":design_vals,\n",
    "               \"output_data\":y,\n",
    "               \"data_errors\":y_err,\n",
    "               \"error_mapping\":model_errors,\n",
    "               \"model_prior\":model_prior,\n",
    "               \"model_sampler\":model_sampler,\n",
    "               \"error_prior\":error_prior,\n",
    "               \"error_sampler\":error_sampler\n",
    "              }\n",
    "\n",
    "problem_py = {\"model_type\":\"python\",\n",
    "              \"evaluate\":cosine.evaluate_dict,\n",
    "              \"model_params\":model_params,\n",
    "              \"error_params\":error_params,\n",
    "              \"design_vars\":design_vars,\n",
    "              \"input_data\":design_vals,\n",
    "              \"output_data\":y,\n",
    "              \"data_errors\":y_err,\n",
    "              \"error_mapping\":model_errors,\n",
    "              \"model_prior\":model_prior,\n",
    "              \"model_sampler\":model_sampler,\n",
    "              \"error_prior\":error_prior,\n",
    "              \"error_sampler\":error_sampler\n",
    "              }\n",
    "\n",
    "\"\"\"\n",
    "try:\n",
    "    shutil.rmtree(\"./TMCMC_output\")\n",
    "except FileNotFoundError:\n",
    "    pass\n",
    "\n",
    "os.makedirs(\"TMCMC_output\")\n",
    "os.chdir(\"TMCMC_output\")\n",
    "\n",
    "#TMCMC_sampler = TMCMC.load_state(logpath)\n",
    "#df,qoi = TMCMC_sampler.sample(n_samples,checkpoint=True)\n",
    "\n",
    "df,qoi = TMCMC.TMCMC(problem_py,logstep=2000,logpath=logpath,nprocs=8).sample(n_samples)\n",
    "\n",
    "os.chdir(\"..\")\n",
    "\n",
    "# Remove garbage\n",
    "shutil.rmtree(\"./TMCMC_output\")\n",
    "\n",
    "print(df)\n",
    "\"\"\""
   ]
  },
  {
   "cell_type": "markdown",
   "metadata": {},
   "source": [
    "### Propagate uncertainty forward to output"
   ]
  },
  {
   "cell_type": "code",
   "execution_count": 3,
   "metadata": {
    "scrolled": false
   },
   "outputs": [
    {
     "data": {
      "text/plain": [
       "'\\na,c,k,f = true_params\\n\\nplt.figure(figsize=(20,10))\\nplt.grid(True)\\n\\n# Data\\nplt.errorbar(x,y,yerr=y_err,label=\"Data\")\\n\\n# True values\\ninterval = np.linspace(0,2*np.pi,1000)\\ny_true, _ = cosine.evaluate(interval,a,c,k,f)\\n#plt.plot(interval,y_true,label=\"True distribution\")\\n\\n# Highest likelihood\\nmle = np.argmax(df[\"likelihood\"].values)\\nplt.plot(x,qoi[mle],label=\"Max Likelihood Sample\")\\n\\n# All distributions\\n#for n in range(qoi.shape[0]):\\n#    plt.plot(x,qoi[n])\\n\\n# Mean QoI output\\nmean = np.mean(qoi,axis=0)\\nvar = np.sum((qoi - mean[None,:])**2,axis=0) / (qoi.shape[0] - 1)\\nconf = 1.96 * np.sqrt(var / qoi.shape[0])\\n\\nplt.errorbar(x,mean,yerr=conf,label=\"Mean QoI\")\\n\\nplt.legend()\\n\\nplt.show()\\n'"
      ]
     },
     "execution_count": 3,
     "metadata": {},
     "output_type": "execute_result"
    }
   ],
   "source": [
    "\"\"\"\n",
    "a,c,k,f = true_params\n",
    "\n",
    "plt.figure(figsize=(20,10))\n",
    "plt.grid(True)\n",
    "\n",
    "# Data\n",
    "plt.errorbar(x,y,yerr=y_err,label=\"Data\")\n",
    "\n",
    "# True values\n",
    "interval = np.linspace(0,2*np.pi,1000)\n",
    "y_true, _ = cosine.evaluate(interval,a,c,k,f)\n",
    "#plt.plot(interval,y_true,label=\"True distribution\")\n",
    "\n",
    "# Highest likelihood\n",
    "mle = np.argmax(df[\"likelihood\"].values)\n",
    "plt.plot(x,qoi[mle],label=\"Max Likelihood Sample\")\n",
    "\n",
    "# All distributions\n",
    "#for n in range(qoi.shape[0]):\n",
    "#    plt.plot(x,qoi[n])\n",
    "\n",
    "# Mean QoI output\n",
    "mean = np.mean(qoi,axis=0)\n",
    "var = np.sum((qoi - mean[None,:])**2,axis=0) / (qoi.shape[0] - 1)\n",
    "conf = 1.96 * np.sqrt(var / qoi.shape[0])\n",
    "\n",
    "plt.errorbar(x,mean,yerr=conf,label=\"Mean QoI\")\n",
    "\n",
    "plt.legend()\n",
    "\n",
    "plt.show()\n",
    "\"\"\""
   ]
  },
  {
   "cell_type": "markdown",
   "metadata": {},
   "source": [
    "### Sanity check for output parity"
   ]
  },
  {
   "cell_type": "code",
   "execution_count": 4,
   "metadata": {},
   "outputs": [
    {
     "data": {
      "text/plain": [
       "'\\nfor n in range(qoi.shape[0]):\\n    a,c,k,f = df.values[n,:4]\\n    remeasure_qoi,_ = cosine.evaluate(x,a,c,k,f)\\n    if (qoi[n] != remeasure_qoi).any():\\n        print(\"Difference:\",qoi[n]-remeasure_qoi[n])\\n'"
      ]
     },
     "execution_count": 4,
     "metadata": {},
     "output_type": "execute_result"
    }
   ],
   "source": [
    "\"\"\"\n",
    "for n in range(qoi.shape[0]):\n",
    "    a,c,k,f = df.values[n,:4]\n",
    "    remeasure_qoi,_ = cosine.evaluate(x,a,c,k,f)\n",
    "    if (qoi[n] != remeasure_qoi).any():\n",
    "        print(\"Difference:\",qoi[n]-remeasure_qoi[n])\n",
    "\"\"\""
   ]
  },
  {
   "cell_type": "markdown",
   "metadata": {},
   "source": [
    "## Approximate Bayesian Computation (ABC) using Subset Simulation"
   ]
  },
  {
   "cell_type": "code",
   "execution_count": 5,
   "metadata": {},
   "outputs": [],
   "source": [
    "def distance(a,b):\n",
    "    return np.sqrt(np.sum((a-b)**2))"
   ]
  },
  {
   "cell_type": "code",
   "execution_count": 6,
   "metadata": {},
   "outputs": [
    {
     "name": "stdout",
     "output_type": "stream",
     "text": [
      "True parameter values:\n",
      "('a', 'c', 'k', 'f') =\n",
      "(-3.084805496211077, 1.2210877103983186, -0.6227226099288554, 2.8535858371376923)\n",
      "Initializing...\n",
      "Running stage 1...\n",
      "Current tolerance value: 12.12706996202016\n",
      "Running stage 2...\n",
      "Current tolerance value: 9.446707617324252\n",
      "Running stage 3...\n",
      "Current tolerance value: 6.3950650050797755\n",
      "Running stage 4...\n",
      "Current tolerance value: 3.1368201026456157\n",
      "Running stage 5...\n",
      "Current tolerance value: 1.5996264067107768\n",
      "Running stage 6...\n",
      "Current tolerance value: 0.9160822174190268\n",
      "Running stage 7...\n",
      "Current tolerance value: 0.5400338585045351\n",
      "Running stage 8...\n",
      "Current tolerance value: 0.2338197672582441\n",
      "Minimum tolerance value reached\n",
      "            a         c         k         f  distance\n",
      "0   -3.080085  1.183146  0.611398 -2.865415  0.193951\n",
      "1   -3.080085  1.183146  0.611398 -2.865415  0.193951\n",
      "2   -3.080085  1.183146  0.611398 -2.865415  0.193951\n",
      "3   -3.080085  1.183146  0.611398 -2.865415  0.193951\n",
      "4   -3.080085  1.183146  0.611398 -2.865415  0.193951\n",
      "5   -3.080085  1.183146  0.611398 -2.865415  0.193951\n",
      "6   -3.080085  1.183146  0.611398 -2.865415  0.193951\n",
      "7   -3.080085  1.183146  0.611398 -2.865415  0.193951\n",
      "8   -3.080085  1.183146  0.611398 -2.865415  0.193951\n",
      "9   -3.080085  1.183146  0.611398 -2.865415  0.193951\n",
      "10  -3.052258  1.165776  0.632267 -2.795418  0.201045\n",
      "11  -3.052258  1.165776  0.632267 -2.795418  0.201045\n",
      "12  -3.080085  1.183146  0.611398 -2.865415  0.193951\n",
      "13  -3.080085  1.183146  0.611398 -2.865415  0.193951\n",
      "14  -3.080085  1.183146  0.611398 -2.865415  0.193951\n",
      "15  -3.052258  1.165776  0.632267 -2.795418  0.201045\n",
      "16  -3.052258  1.165776  0.632267 -2.795418  0.201045\n",
      "17  -3.052258  1.165776  0.632267 -2.795418  0.201045\n",
      "18  -3.080085  1.183146  0.611398 -2.865415  0.193951\n",
      "19  -3.080085  1.183146  0.611398 -2.865415  0.193951\n",
      "20  -3.030394  1.209793  0.620738 -2.863618  0.182408\n",
      "21  -3.052258  1.165776  0.632267 -2.795418  0.201045\n",
      "22  -3.052258  1.165776  0.632267 -2.795418  0.201045\n",
      "23  -3.052258  1.165776  0.632267 -2.795418  0.201045\n",
      "24  -3.080085  1.183146  0.611398 -2.865415  0.193951\n",
      "25  -3.052258  1.165776  0.632267 -2.795418  0.193951\n",
      "26  -3.080085  1.183146  0.611398 -2.865415  0.193951\n",
      "27  -3.080085  1.183146  0.611398 -2.865415  0.193951\n",
      "28  -3.080085  1.183146  0.611398 -2.865415  0.193951\n",
      "29  -3.080085  1.183146  0.611398 -2.865415  0.193951\n",
      "..        ...       ...       ...       ...       ...\n",
      "970 -3.061389  1.193904  0.646143 -2.756937  0.233820\n",
      "971 -3.061389  1.193904  0.646143 -2.756937  0.233820\n",
      "972 -3.061389  1.193904  0.646143 -2.756937  0.233820\n",
      "973 -3.061389  1.193904  0.646143 -2.756937  0.233820\n",
      "974 -3.080085  1.183146  0.611398 -2.865415  0.193951\n",
      "975 -3.061389  1.193904  0.646143 -2.756937  0.201045\n",
      "976 -3.052258  1.165776  0.632267 -2.795418  0.201045\n",
      "977 -3.052258  1.165776  0.632267 -2.795418  0.201045\n",
      "978 -3.052258  1.165776  0.632267 -2.795418  0.201045\n",
      "979 -3.052258  1.165776  0.632267 -2.795418  0.201045\n",
      "980 -3.061389  1.193904  0.646143 -2.756937  0.233820\n",
      "981 -3.052258  1.165776  0.632267 -2.795418  0.201045\n",
      "982 -3.052258  1.165776  0.632267 -2.795418  0.201045\n",
      "983 -3.052258  1.165776  0.632267 -2.795418  0.201045\n",
      "984 -3.052258  1.165776  0.632267 -2.795418  0.201045\n",
      "985 -3.061389  1.193904  0.646143 -2.756937  0.233820\n",
      "986 -3.061389  1.193904  0.646143 -2.756937  0.233820\n",
      "987 -3.052258  1.165776  0.632267 -2.795418  0.201045\n",
      "988 -3.052258  1.165776  0.632267 -2.795418  0.201045\n",
      "989 -3.052258  1.165776  0.632267 -2.795418  0.201045\n",
      "990 -3.061389  1.193904  0.646143 -2.756937  0.233820\n",
      "991 -3.061389  1.193904  0.646143 -2.756937  0.233820\n",
      "992 -3.061389  1.193904  0.646143 -2.756937  0.233820\n",
      "993 -3.052258  1.165776  0.632267 -2.795418  0.201045\n",
      "994 -3.052258  1.165776  0.632267 -2.795418  0.201045\n",
      "995 -3.061389  1.193904  0.646143 -2.756937  0.233820\n",
      "996 -3.061389  1.193904  0.646143 -2.756937  0.233820\n",
      "997 -3.061389  1.193904  0.646143 -2.756937  0.233820\n",
      "998 -3.061389  1.193904  0.646143 -2.756937  0.233820\n",
      "999 -3.080085  1.183146  0.611398 -2.865415  0.193951\n",
      "\n",
      "[1000 rows x 5 columns]\n"
     ]
    }
   ],
   "source": [
    "np.random.seed(seed)\n",
    "\n",
    "# Generate data with Gaussian noise\n",
    "x, y, y_err, true_params = cosine.generate(15,scale=0.01)\n",
    "a, c, k, f = true_params\n",
    "\n",
    "# Parameter names\n",
    "model_params = [\"a\",\"c\",\"k\",\"f\"]\n",
    "design_vars = [\"x\"]\n",
    "\n",
    "print(\"True parameter values:\")\n",
    "print(tuple(model_params), \"=\")\n",
    "print((a,c,k,f))\n",
    "\n",
    "# Design variable values\n",
    "#design_vals = np.row_stack(np.broadcast(x,a,c))\n",
    "design_vals = x\n",
    "\n",
    "# Define uniform prior wrapper functions and samplers for the model parameters\n",
    "param_prior = lambda sample: uniform.pdf(sample,-5.0,10.0)\n",
    "param_sampler = lambda n_samples: np.random.uniform(-5.0,5.0,n_samples)\n",
    "\n",
    "priors = [param_prior for param in model_params]\n",
    "samplers = [param_sampler for param in model_params]\n",
    "\n",
    "# Construct problem dict\n",
    "problem_ext = {\"model_type\":\"external\",\n",
    "               \"setup\":(lambda params: cosine.setup(modelpath,params)),\n",
    "               \"measure\":cosine.read_output,\n",
    "               \"distance\":distance,\n",
    "               \"model_params\":model_params,\n",
    "               \"design_vars\":design_vars,\n",
    "               \"input_data\":design_vals,\n",
    "               \"output_data\":y,\n",
    "               \"data_errors\":y_err,\n",
    "               \"priors\":priors,\n",
    "               \"samplers\":samplers,\n",
    "              }\n",
    "\n",
    "problem_py = {\"model_type\":\"python\",\n",
    "              \"evaluate\":cosine.evaluate_dict,\n",
    "              \"distance\":distance,\n",
    "              \"model_params\":model_params,\n",
    "              \"design_vars\":design_vars,\n",
    "              \"input_data\":design_vals,\n",
    "              \"output_data\":y,\n",
    "              \"data_errors\":y_err,\n",
    "              \"priors\":priors,\n",
    "              \"samplers\":samplers,\n",
    "              }\n",
    "\n",
    "try:\n",
    "    shutil.rmtree(\"./ABCSubSim_output\")\n",
    "except FileNotFoundError:\n",
    "    pass\n",
    "\n",
    "os.makedirs(\"ABCSubSim_output\")\n",
    "os.chdir(\"ABCSubSim_output\")\n",
    "\n",
    "ABCSubSim_sampler = ABCSubSim.ABCSubSim(problem_py,nprocs=8,tol=0.5)\n",
    "df,qoi = ABCSubSim_sampler.sample(n_samples)\n",
    "\n",
    "os.chdir(\"..\")\n",
    "\n",
    "# Remove garbage\n",
    "shutil.rmtree(\"./ABCSubSim_output\")\n",
    "\n",
    "print(df)"
   ]
  },
  {
   "cell_type": "markdown",
   "metadata": {},
   "source": [
    "### Propagate input uncertainty to output"
   ]
  },
  {
   "cell_type": "code",
   "execution_count": 7,
   "metadata": {},
   "outputs": [
    {
     "data": {
      "image/png": "[encoded data removed]",
      "text/plain": [
       "<Figure size 1440x720 with 1 Axes>"
      ]
     },
     "metadata": {
      "needs_background": "light"
     },
     "output_type": "display_data"
    }
   ],
   "source": [
    "a,c,k,f = true_params\n",
    "\n",
    "plt.figure(figsize=(20,10))\n",
    "plt.grid(True)\n",
    "\n",
    "# Data\n",
    "plt.errorbar(x,y,yerr=y_err,label=\"Data\")\n",
    "\n",
    "# True values\n",
    "interval = np.linspace(0,2*np.pi,1000)\n",
    "y_true, _ = cosine.evaluate(interval,a,c,k,f)\n",
    "#plt.plot(interval,y_true,label=\"True distribution\")\n",
    "\n",
    "# Highest likelihood\n",
    "mde = np.argmin(df[\"distance\"].values)\n",
    "plt.plot(x,qoi[mde],label=\"Minimum Distance Sample\")\n",
    "\n",
    "# All distributions\n",
    "#for n in range(qoi.shape[0]):\n",
    "#    plt.plot(x,qoi[n])\n",
    "\n",
    "# Mean QoI output\n",
    "mean = np.mean(qoi,axis=0)\n",
    "var = np.sum((qoi - mean[None,:])**2,axis=0) / (qoi.shape[0] - 1)\n",
    "conf = 1.96 * np.sqrt(var / qoi.shape[0])\n",
    "\n",
    "plt.errorbar(x,mean,yerr=conf,label=\"Mean QoI\")\n",
    "\n",
    "plt.legend()\n",
    "\n",
    "plt.show()"
   ]
  }
 ],
 "metadata": {
  "kernelspec": {
   "display_name": "Python 3",
   "language": "python",
   "name": "python3"
  },
  "language_info": {
   "codemirror_mode": {
    "name": "ipython",
    "version": 3
   },
   "file_extension": ".py",
   "mimetype": "text/x-python",
   "name": "python",
   "nbconvert_exporter": "python",
   "pygments_lexer": "ipython3",
   "version": "3.7.1"
  }
 },
 "nbformat": 4,
 "nbformat_minor": 2
}
